{
 "cells": [
  {
   "cell_type": "code",
   "execution_count": 1,
   "id": "ff2d2f1d",
   "metadata": {},
   "outputs": [],
   "source": [
    "# importation of the package\n",
    "import numpy as np\n",
    "import pandas as pd\n",
    "import matplotlib.pyplot as plt\n",
    "import seaborn as sns"
   ]
  },
  {
   "cell_type": "code",
   "execution_count": 2,
   "id": "f27f5b19",
   "metadata": {},
   "outputs": [],
   "source": [
    "# import the data into dataframe\n",
    "df = pd.read_csv(\"C:/Users/USER/Desktop/Data Science Course/Billionaire's Folder/Billionaire.csv\")"
   ]
  },
  {
   "cell_type": "code",
   "execution_count": null,
   "id": "8dc46180",
   "metadata": {},
   "outputs": [],
   "source": []
  },
  {
   "cell_type": "markdown",
   "id": "d642e471",
   "metadata": {},
   "source": [
    "# DATA ACCESSING"
   ]
  },
  {
   "cell_type": "code",
   "execution_count": 5,
   "id": "a374439e",
   "metadata": {},
   "outputs": [
    {
     "data": {
      "text/html": [
       "<div>\n",
       "<style scoped>\n",
       "    .dataframe tbody tr th:only-of-type {\n",
       "        vertical-align: middle;\n",
       "    }\n",
       "\n",
       "    .dataframe tbody tr th {\n",
       "        vertical-align: top;\n",
       "    }\n",
       "\n",
       "    .dataframe thead th {\n",
       "        text-align: right;\n",
       "    }\n",
       "</style>\n",
       "<table border=\"1\" class=\"dataframe\">\n",
       "  <thead>\n",
       "    <tr style=\"text-align: right;\">\n",
       "      <th></th>\n",
       "      <th>Name</th>\n",
       "      <th>NetWorth</th>\n",
       "      <th>Country</th>\n",
       "      <th>Source</th>\n",
       "      <th>Rank</th>\n",
       "      <th>Age</th>\n",
       "      <th>Industry</th>\n",
       "    </tr>\n",
       "  </thead>\n",
       "  <tbody>\n",
       "    <tr>\n",
       "      <th>0</th>\n",
       "      <td>Jeff Bezos</td>\n",
       "      <td>$177 B</td>\n",
       "      <td>United States</td>\n",
       "      <td>Amazon</td>\n",
       "      <td>1</td>\n",
       "      <td>57.0</td>\n",
       "      <td>Technology</td>\n",
       "    </tr>\n",
       "    <tr>\n",
       "      <th>1</th>\n",
       "      <td>Elon Musk</td>\n",
       "      <td>$151 B</td>\n",
       "      <td>United States</td>\n",
       "      <td>Tesla, SpaceX</td>\n",
       "      <td>2</td>\n",
       "      <td>49.0</td>\n",
       "      <td>Automotive</td>\n",
       "    </tr>\n",
       "    <tr>\n",
       "      <th>2</th>\n",
       "      <td>Bernard Arnault &amp; family</td>\n",
       "      <td>$150 B</td>\n",
       "      <td>France</td>\n",
       "      <td>LVMH</td>\n",
       "      <td>3</td>\n",
       "      <td>72.0</td>\n",
       "      <td>Fashion &amp; Retail</td>\n",
       "    </tr>\n",
       "    <tr>\n",
       "      <th>3</th>\n",
       "      <td>Bill Gates</td>\n",
       "      <td>$124 B</td>\n",
       "      <td>United States</td>\n",
       "      <td>Microsoft</td>\n",
       "      <td>4</td>\n",
       "      <td>65.0</td>\n",
       "      <td>Technology</td>\n",
       "    </tr>\n",
       "    <tr>\n",
       "      <th>4</th>\n",
       "      <td>Mark Zuckerberg</td>\n",
       "      <td>$97 B</td>\n",
       "      <td>United States</td>\n",
       "      <td>Facebook</td>\n",
       "      <td>5</td>\n",
       "      <td>36.0</td>\n",
       "      <td>Technology</td>\n",
       "    </tr>\n",
       "  </tbody>\n",
       "</table>\n",
       "</div>"
      ],
      "text/plain": [
       "                       Name NetWorth        Country         Source  Rank  \\\n",
       "0                Jeff Bezos   $177 B  United States         Amazon     1   \n",
       "1                 Elon Musk   $151 B  United States  Tesla, SpaceX     2   \n",
       "2  Bernard Arnault & family   $150 B         France           LVMH     3   \n",
       "3                Bill Gates   $124 B  United States      Microsoft     4   \n",
       "4           Mark Zuckerberg    $97 B  United States       Facebook     5   \n",
       "\n",
       "    Age          Industry  \n",
       "0  57.0        Technology  \n",
       "1  49.0        Automotive  \n",
       "2  72.0  Fashion & Retail  \n",
       "3  65.0        Technology  \n",
       "4  36.0        Technology  "
      ]
     },
     "execution_count": 5,
     "metadata": {},
     "output_type": "execute_result"
    }
   ],
   "source": [
    "# print the first five rows of the dataframe\n",
    "df.head()"
   ]
  },
  {
   "cell_type": "code",
   "execution_count": 11,
   "id": "994f1f00",
   "metadata": {
    "scrolled": true
   },
   "outputs": [
    {
     "data": {
      "text/html": [
       "<div>\n",
       "<style scoped>\n",
       "    .dataframe tbody tr th:only-of-type {\n",
       "        vertical-align: middle;\n",
       "    }\n",
       "\n",
       "    .dataframe tbody tr th {\n",
       "        vertical-align: top;\n",
       "    }\n",
       "\n",
       "    .dataframe thead th {\n",
       "        text-align: right;\n",
       "    }\n",
       "</style>\n",
       "<table border=\"1\" class=\"dataframe\">\n",
       "  <thead>\n",
       "    <tr style=\"text-align: right;\">\n",
       "      <th></th>\n",
       "      <th>Name</th>\n",
       "      <th>NetWorth</th>\n",
       "      <th>Country</th>\n",
       "      <th>Source</th>\n",
       "      <th>Rank</th>\n",
       "      <th>Age</th>\n",
       "      <th>Industry</th>\n",
       "    </tr>\n",
       "  </thead>\n",
       "  <tbody>\n",
       "    <tr>\n",
       "      <th>2750</th>\n",
       "      <td>Daniel Yong Zhang</td>\n",
       "      <td>$1 B</td>\n",
       "      <td>China</td>\n",
       "      <td>e-commerce</td>\n",
       "      <td>2674</td>\n",
       "      <td>49.0</td>\n",
       "      <td>Technology</td>\n",
       "    </tr>\n",
       "    <tr>\n",
       "      <th>2751</th>\n",
       "      <td>Zhang Yuqiang</td>\n",
       "      <td>$1 B</td>\n",
       "      <td>China</td>\n",
       "      <td>Fiberglass</td>\n",
       "      <td>2674</td>\n",
       "      <td>65.0</td>\n",
       "      <td>Manufacturing</td>\n",
       "    </tr>\n",
       "    <tr>\n",
       "      <th>2752</th>\n",
       "      <td>Zhao Meiguang</td>\n",
       "      <td>$1 B</td>\n",
       "      <td>China</td>\n",
       "      <td>gold mining</td>\n",
       "      <td>2674</td>\n",
       "      <td>58.0</td>\n",
       "      <td>Metals &amp; Mining</td>\n",
       "    </tr>\n",
       "    <tr>\n",
       "      <th>2753</th>\n",
       "      <td>Zhong Naixiong</td>\n",
       "      <td>$1 B</td>\n",
       "      <td>China</td>\n",
       "      <td>conglomerate</td>\n",
       "      <td>2674</td>\n",
       "      <td>58.0</td>\n",
       "      <td>Diversified</td>\n",
       "    </tr>\n",
       "    <tr>\n",
       "      <th>2754</th>\n",
       "      <td>Zhou Wei family</td>\n",
       "      <td>$1 B</td>\n",
       "      <td>China</td>\n",
       "      <td>Software</td>\n",
       "      <td>2674</td>\n",
       "      <td>54.0</td>\n",
       "      <td>Technology</td>\n",
       "    </tr>\n",
       "  </tbody>\n",
       "</table>\n",
       "</div>"
      ],
      "text/plain": [
       "                   Name NetWorth Country        Source  Rank   Age  \\\n",
       "2750  Daniel Yong Zhang     $1 B   China    e-commerce  2674  49.0   \n",
       "2751      Zhang Yuqiang     $1 B   China    Fiberglass  2674  65.0   \n",
       "2752      Zhao Meiguang     $1 B   China   gold mining  2674  58.0   \n",
       "2753     Zhong Naixiong     $1 B   China  conglomerate  2674  58.0   \n",
       "2754    Zhou Wei family     $1 B   China      Software  2674  54.0   \n",
       "\n",
       "             Industry  \n",
       "2750       Technology  \n",
       "2751    Manufacturing  \n",
       "2752  Metals & Mining  \n",
       "2753      Diversified  \n",
       "2754       Technology  "
      ]
     },
     "execution_count": 11,
     "metadata": {},
     "output_type": "execute_result"
    }
   ],
   "source": [
    "# print the last five rows of the dataframe \n",
    "df.tail()"
   ]
  },
  {
   "cell_type": "code",
   "execution_count": null,
   "id": "40da3cd8",
   "metadata": {},
   "outputs": [],
   "source": []
  },
  {
   "cell_type": "code",
   "execution_count": 12,
   "id": "528dd114",
   "metadata": {},
   "outputs": [
    {
     "data": {
      "text/html": [
       "<div>\n",
       "<style scoped>\n",
       "    .dataframe tbody tr th:only-of-type {\n",
       "        vertical-align: middle;\n",
       "    }\n",
       "\n",
       "    .dataframe tbody tr th {\n",
       "        vertical-align: top;\n",
       "    }\n",
       "\n",
       "    .dataframe thead th {\n",
       "        text-align: right;\n",
       "    }\n",
       "</style>\n",
       "<table border=\"1\" class=\"dataframe\">\n",
       "  <thead>\n",
       "    <tr style=\"text-align: right;\">\n",
       "      <th></th>\n",
       "      <th>Name</th>\n",
       "      <th>NetWorth</th>\n",
       "      <th>Country</th>\n",
       "      <th>Source</th>\n",
       "      <th>Rank</th>\n",
       "      <th>Age</th>\n",
       "      <th>Industry</th>\n",
       "    </tr>\n",
       "  </thead>\n",
       "  <tbody>\n",
       "    <tr>\n",
       "      <th>264</th>\n",
       "      <td>Michael Otto</td>\n",
       "      <td>$8.9 B</td>\n",
       "      <td>Germany</td>\n",
       "      <td>retail, real estate</td>\n",
       "      <td>264</td>\n",
       "      <td>77.0</td>\n",
       "      <td>Fashion &amp; Retail</td>\n",
       "    </tr>\n",
       "    <tr>\n",
       "      <th>1262</th>\n",
       "      <td>Hans-Werner Hector</td>\n",
       "      <td>$2.5 B</td>\n",
       "      <td>Germany</td>\n",
       "      <td>SAP</td>\n",
       "      <td>1249</td>\n",
       "      <td>81.0</td>\n",
       "      <td>Technology</td>\n",
       "    </tr>\n",
       "    <tr>\n",
       "      <th>2391</th>\n",
       "      <td>Chua Thian Poh</td>\n",
       "      <td>$1.2 B</td>\n",
       "      <td>Singapore</td>\n",
       "      <td>real estate</td>\n",
       "      <td>2378</td>\n",
       "      <td>72.0</td>\n",
       "      <td>Real Estate</td>\n",
       "    </tr>\n",
       "    <tr>\n",
       "      <th>437</th>\n",
       "      <td>Margaretta Taylor</td>\n",
       "      <td>$6.2 B</td>\n",
       "      <td>United States</td>\n",
       "      <td>media, automotive</td>\n",
       "      <td>432</td>\n",
       "      <td>78.0</td>\n",
       "      <td>Media &amp; Entertainment</td>\n",
       "    </tr>\n",
       "    <tr>\n",
       "      <th>2407</th>\n",
       "      <td>J. Christopher Flowers</td>\n",
       "      <td>$1.2 B</td>\n",
       "      <td>United States</td>\n",
       "      <td>investments</td>\n",
       "      <td>2378</td>\n",
       "      <td>63.0</td>\n",
       "      <td>Finance &amp; Investments</td>\n",
       "    </tr>\n",
       "    <tr>\n",
       "      <th>418</th>\n",
       "      <td>Wang Yusuo &amp; family</td>\n",
       "      <td>$6.4 B</td>\n",
       "      <td>China</td>\n",
       "      <td>natural gas distribution</td>\n",
       "      <td>418</td>\n",
       "      <td>57.0</td>\n",
       "      <td>Energy</td>\n",
       "    </tr>\n",
       "    <tr>\n",
       "      <th>208</th>\n",
       "      <td>Wang Laichun</td>\n",
       "      <td>$10.7 B</td>\n",
       "      <td>China</td>\n",
       "      <td>electronics components</td>\n",
       "      <td>208</td>\n",
       "      <td>53.0</td>\n",
       "      <td>Technology</td>\n",
       "    </tr>\n",
       "    <tr>\n",
       "      <th>2471</th>\n",
       "      <td>Dani Reiss</td>\n",
       "      <td>$1.2 B</td>\n",
       "      <td>Canada</td>\n",
       "      <td>down jackets</td>\n",
       "      <td>2378</td>\n",
       "      <td>47.0</td>\n",
       "      <td>Fashion &amp; Retail</td>\n",
       "    </tr>\n",
       "    <tr>\n",
       "      <th>855</th>\n",
       "      <td>Yang Shaopeng</td>\n",
       "      <td>$3.6 B</td>\n",
       "      <td>China</td>\n",
       "      <td>shipping</td>\n",
       "      <td>831</td>\n",
       "      <td>63.0</td>\n",
       "      <td>Logistics</td>\n",
       "    </tr>\n",
       "    <tr>\n",
       "      <th>1242</th>\n",
       "      <td>Evan Williams</td>\n",
       "      <td>$2.6 B</td>\n",
       "      <td>United States</td>\n",
       "      <td>Twitter</td>\n",
       "      <td>1205</td>\n",
       "      <td>49.0</td>\n",
       "      <td>Technology</td>\n",
       "    </tr>\n",
       "  </tbody>\n",
       "</table>\n",
       "</div>"
      ],
      "text/plain": [
       "                        Name NetWorth        Country  \\\n",
       "264             Michael Otto   $8.9 B        Germany   \n",
       "1262      Hans-Werner Hector   $2.5 B        Germany   \n",
       "2391          Chua Thian Poh   $1.2 B      Singapore   \n",
       "437        Margaretta Taylor   $6.2 B  United States   \n",
       "2407  J. Christopher Flowers   $1.2 B  United States   \n",
       "418      Wang Yusuo & family   $6.4 B          China   \n",
       "208             Wang Laichun  $10.7 B          China   \n",
       "2471              Dani Reiss   $1.2 B         Canada   \n",
       "855            Yang Shaopeng   $3.6 B          China   \n",
       "1242           Evan Williams   $2.6 B  United States   \n",
       "\n",
       "                        Source  Rank   Age               Industry  \n",
       "264        retail, real estate   264  77.0       Fashion & Retail  \n",
       "1262                       SAP  1249  81.0             Technology  \n",
       "2391               real estate  2378  72.0            Real Estate  \n",
       "437          media, automotive   432  78.0  Media & Entertainment  \n",
       "2407               investments  2378  63.0  Finance & Investments  \n",
       "418   natural gas distribution   418  57.0                 Energy  \n",
       "208     electronics components   208  53.0             Technology  \n",
       "2471              down jackets  2378  47.0       Fashion & Retail  \n",
       "855                   shipping   831  63.0              Logistics  \n",
       "1242                   Twitter  1205  49.0             Technology  "
      ]
     },
     "execution_count": 12,
     "metadata": {},
     "output_type": "execute_result"
    }
   ],
   "source": [
    "# randomly print 10 rows from the dataframe\n",
    "df.sample(10)"
   ]
  },
  {
   "cell_type": "code",
   "execution_count": 14,
   "id": "48f1ab85",
   "metadata": {},
   "outputs": [
    {
     "data": {
      "text/plain": [
       "(2755, 7)"
      ]
     },
     "execution_count": 14,
     "metadata": {},
     "output_type": "execute_result"
    }
   ],
   "source": [
    "# check the dimension of the dataframe\n",
    "df.shape"
   ]
  },
  {
   "cell_type": "code",
   "execution_count": 54,
   "id": "24bbdcd5",
   "metadata": {},
   "outputs": [
    {
     "name": "stdout",
     "output_type": "stream",
     "text": [
      "<class 'pandas.core.frame.DataFrame'>\n",
      "Int64Index: 2755 entries, 0 to 2754\n",
      "Data columns (total 8 columns):\n",
      " #   Column       Non-Null Count  Dtype \n",
      "---  ------       --------------  ----- \n",
      " 0   Name         2755 non-null   object\n",
      " 1   NetWorth     2755 non-null   object\n",
      " 2   Country      2755 non-null   object\n",
      " 3   Source       2755 non-null   object\n",
      " 4   Rank         2755 non-null   int64 \n",
      " 5   Age          2755 non-null   int32 \n",
      " 6   Industry     2755 non-null   object\n",
      " 7   NetWorth(B)  2755 non-null   object\n",
      "dtypes: int32(1), int64(1), object(6)\n",
      "memory usage: 182.9+ KB\n"
     ]
    }
   ],
   "source": [
    "# check the summary of the dataframe\n",
    "df.info()"
   ]
  },
  {
   "cell_type": "code",
   "execution_count": 16,
   "id": "ffcf34df",
   "metadata": {},
   "outputs": [
    {
     "data": {
      "text/html": [
       "<div>\n",
       "<style scoped>\n",
       "    .dataframe tbody tr th:only-of-type {\n",
       "        vertical-align: middle;\n",
       "    }\n",
       "\n",
       "    .dataframe tbody tr th {\n",
       "        vertical-align: top;\n",
       "    }\n",
       "\n",
       "    .dataframe thead th {\n",
       "        text-align: right;\n",
       "    }\n",
       "</style>\n",
       "<table border=\"1\" class=\"dataframe\">\n",
       "  <thead>\n",
       "    <tr style=\"text-align: right;\">\n",
       "      <th></th>\n",
       "      <th>Rank</th>\n",
       "      <th>Age</th>\n",
       "    </tr>\n",
       "  </thead>\n",
       "  <tbody>\n",
       "    <tr>\n",
       "      <th>count</th>\n",
       "      <td>2755.000000</td>\n",
       "      <td>2676.000000</td>\n",
       "    </tr>\n",
       "    <tr>\n",
       "      <th>mean</th>\n",
       "      <td>1345.663521</td>\n",
       "      <td>63.113602</td>\n",
       "    </tr>\n",
       "    <tr>\n",
       "      <th>std</th>\n",
       "      <td>772.669811</td>\n",
       "      <td>13.445153</td>\n",
       "    </tr>\n",
       "    <tr>\n",
       "      <th>min</th>\n",
       "      <td>1.000000</td>\n",
       "      <td>18.000000</td>\n",
       "    </tr>\n",
       "    <tr>\n",
       "      <th>25%</th>\n",
       "      <td>680.000000</td>\n",
       "      <td>54.000000</td>\n",
       "    </tr>\n",
       "    <tr>\n",
       "      <th>50%</th>\n",
       "      <td>1362.000000</td>\n",
       "      <td>63.000000</td>\n",
       "    </tr>\n",
       "    <tr>\n",
       "      <th>75%</th>\n",
       "      <td>2035.000000</td>\n",
       "      <td>73.000000</td>\n",
       "    </tr>\n",
       "    <tr>\n",
       "      <th>max</th>\n",
       "      <td>2674.000000</td>\n",
       "      <td>99.000000</td>\n",
       "    </tr>\n",
       "  </tbody>\n",
       "</table>\n",
       "</div>"
      ],
      "text/plain": [
       "              Rank          Age\n",
       "count  2755.000000  2676.000000\n",
       "mean   1345.663521    63.113602\n",
       "std     772.669811    13.445153\n",
       "min       1.000000    18.000000\n",
       "25%     680.000000    54.000000\n",
       "50%    1362.000000    63.000000\n",
       "75%    2035.000000    73.000000\n",
       "max    2674.000000    99.000000"
      ]
     },
     "execution_count": 16,
     "metadata": {},
     "output_type": "execute_result"
    }
   ],
   "source": [
    "# check the statistical summary of the dataframe\n",
    "df.describe()"
   ]
  },
  {
   "cell_type": "code",
   "execution_count": 30,
   "id": "4d74ad14",
   "metadata": {},
   "outputs": [
    {
     "data": {
      "text/html": [
       "<div>\n",
       "<style scoped>\n",
       "    .dataframe tbody tr th:only-of-type {\n",
       "        vertical-align: middle;\n",
       "    }\n",
       "\n",
       "    .dataframe tbody tr th {\n",
       "        vertical-align: top;\n",
       "    }\n",
       "\n",
       "    .dataframe thead th {\n",
       "        text-align: right;\n",
       "    }\n",
       "</style>\n",
       "<table border=\"1\" class=\"dataframe\">\n",
       "  <thead>\n",
       "    <tr style=\"text-align: right;\">\n",
       "      <th></th>\n",
       "      <th>Rank</th>\n",
       "      <th>Age</th>\n",
       "    </tr>\n",
       "  </thead>\n",
       "  <tbody>\n",
       "    <tr>\n",
       "      <th>Rank</th>\n",
       "      <td>1.000000</td>\n",
       "      <td>-0.104628</td>\n",
       "    </tr>\n",
       "    <tr>\n",
       "      <th>Age</th>\n",
       "      <td>-0.104628</td>\n",
       "      <td>1.000000</td>\n",
       "    </tr>\n",
       "  </tbody>\n",
       "</table>\n",
       "</div>"
      ],
      "text/plain": [
       "          Rank       Age\n",
       "Rank  1.000000 -0.104628\n",
       "Age  -0.104628  1.000000"
      ]
     },
     "execution_count": 30,
     "metadata": {},
     "output_type": "execute_result"
    }
   ],
   "source": [
    "# check for linear correlation\n",
    "cor = df.corr()\n",
    "cor"
   ]
  },
  {
   "cell_type": "code",
   "execution_count": 33,
   "id": "d39c6083",
   "metadata": {},
   "outputs": [
    {
     "data": {
      "image/png": "[encoded data removed]",
      "text/plain": [
       "<Figure size 640x480 with 2 Axes>"
      ]
     },
     "metadata": {},
     "output_type": "display_data"
    }
   ],
   "source": [
    "# plot heatmap to display the correlation\n",
    "sns.heatmap(cor, annot = True)\n",
    "f = plt.gcf()\n",
    "f.set_size_inches = (10,12)"
   ]
  },
  {
   "cell_type": "code",
   "execution_count": 28,
   "id": "e5e7e21a",
   "metadata": {},
   "outputs": [
    {
     "data": {
      "image/png": "[encoded data removed]",
      "text/plain": [
       "<Figure size 800x800 with 2 Axes>"
      ]
     },
     "metadata": {},
     "output_type": "display_data"
    }
   ],
   "source": [
    "# plot heatmap to display the correlation\n",
    "sns.heatmap(cor, annot = True)\n",
    "plt.rcParams[\"figure.figsize\"] = [2,2] # to change the size of the chart"
   ]
  },
  {
   "cell_type": "code",
   "execution_count": 36,
   "id": "fa4f8d28",
   "metadata": {},
   "outputs": [
    {
     "data": {
      "text/plain": [
       "0"
      ]
     },
     "execution_count": 36,
     "metadata": {},
     "output_type": "execute_result"
    }
   ],
   "source": [
    "# check for duplicate\n",
    "df.duplicated().sum()"
   ]
  },
  {
   "cell_type": "code",
   "execution_count": 36,
   "id": "9b190f95",
   "metadata": {},
   "outputs": [
    {
     "data": {
      "text/plain": [
       "Name        0\n",
       "NetWorth    0\n",
       "Country     0\n",
       "Source      0\n",
       "Rank        0\n",
       "Age         0\n",
       "Industry    0\n",
       "dtype: int64"
      ]
     },
     "execution_count": 36,
     "metadata": {},
     "output_type": "execute_result"
    }
   ],
   "source": [
    "# check for missing value\n",
    "df.isna().sum()"
   ]
  },
  {
   "cell_type": "markdown",
   "id": "48ff4b84",
   "metadata": {},
   "source": [
    "# DATA CLEANING"
   ]
  },
  {
   "cell_type": "code",
   "execution_count": 35,
   "id": "8d0a5e6c",
   "metadata": {},
   "outputs": [],
   "source": [
    "# fill the missing values in Age column with the mean\n",
    "mean = df.Age.mean()\n",
    "df.Age.fillna(mean, inplace=True)"
   ]
  },
  {
   "cell_type": "markdown",
   "id": "9164d9d9",
   "metadata": {},
   "source": [
    "#### NB: you must fill the missing values before changing the datatype"
   ]
  },
  {
   "cell_type": "code",
   "execution_count": 44,
   "id": "f1df224e",
   "metadata": {},
   "outputs": [],
   "source": [
    "# change the datatype of age column from float to int\n",
    "df['Age'] = df['Age'].astype(int)"
   ]
  },
  {
   "cell_type": "code",
   "execution_count": 52,
   "id": "f0241328",
   "metadata": {},
   "outputs": [],
   "source": [
    "# to remove the $ and B sign in Networth column and create a new column with the value from the cleaned Networth\n",
    "y = lambda x: x.strip('$').strip('B').strip()\n",
    "df['NetWorth(B)']= df['NetWorth'].apply(y)"
   ]
  },
  {
   "cell_type": "code",
   "execution_count": 53,
   "id": "b378aaf5",
   "metadata": {},
   "outputs": [
    {
     "data": {
      "text/html": [
       "<div>\n",
       "<style scoped>\n",
       "    .dataframe tbody tr th:only-of-type {\n",
       "        vertical-align: middle;\n",
       "    }\n",
       "\n",
       "    .dataframe tbody tr th {\n",
       "        vertical-align: top;\n",
       "    }\n",
       "\n",
       "    .dataframe thead th {\n",
       "        text-align: right;\n",
       "    }\n",
       "</style>\n",
       "<table border=\"1\" class=\"dataframe\">\n",
       "  <thead>\n",
       "    <tr style=\"text-align: right;\">\n",
       "      <th></th>\n",
       "      <th>Name</th>\n",
       "      <th>NetWorth</th>\n",
       "      <th>Country</th>\n",
       "      <th>Source</th>\n",
       "      <th>Rank</th>\n",
       "      <th>Age</th>\n",
       "      <th>Industry</th>\n",
       "      <th>NetWorth(B)</th>\n",
       "    </tr>\n",
       "  </thead>\n",
       "  <tbody>\n",
       "    <tr>\n",
       "      <th>0</th>\n",
       "      <td>Jeff Bezos</td>\n",
       "      <td>$177 B</td>\n",
       "      <td>United States</td>\n",
       "      <td>Amazon</td>\n",
       "      <td>1</td>\n",
       "      <td>57</td>\n",
       "      <td>Technology</td>\n",
       "      <td>177</td>\n",
       "    </tr>\n",
       "    <tr>\n",
       "      <th>1</th>\n",
       "      <td>Elon Musk</td>\n",
       "      <td>$151 B</td>\n",
       "      <td>United States</td>\n",
       "      <td>Tesla, SpaceX</td>\n",
       "      <td>2</td>\n",
       "      <td>49</td>\n",
       "      <td>Automotive</td>\n",
       "      <td>151</td>\n",
       "    </tr>\n",
       "    <tr>\n",
       "      <th>2</th>\n",
       "      <td>Bernard Arnault &amp; family</td>\n",
       "      <td>$150 B</td>\n",
       "      <td>France</td>\n",
       "      <td>LVMH</td>\n",
       "      <td>3</td>\n",
       "      <td>72</td>\n",
       "      <td>Fashion &amp; Retail</td>\n",
       "      <td>150</td>\n",
       "    </tr>\n",
       "    <tr>\n",
       "      <th>3</th>\n",
       "      <td>Bill Gates</td>\n",
       "      <td>$124 B</td>\n",
       "      <td>United States</td>\n",
       "      <td>Microsoft</td>\n",
       "      <td>4</td>\n",
       "      <td>65</td>\n",
       "      <td>Technology</td>\n",
       "      <td>124</td>\n",
       "    </tr>\n",
       "    <tr>\n",
       "      <th>4</th>\n",
       "      <td>Mark Zuckerberg</td>\n",
       "      <td>$97 B</td>\n",
       "      <td>United States</td>\n",
       "      <td>Facebook</td>\n",
       "      <td>5</td>\n",
       "      <td>36</td>\n",
       "      <td>Technology</td>\n",
       "      <td>97</td>\n",
       "    </tr>\n",
       "    <tr>\n",
       "      <th>...</th>\n",
       "      <td>...</td>\n",
       "      <td>...</td>\n",
       "      <td>...</td>\n",
       "      <td>...</td>\n",
       "      <td>...</td>\n",
       "      <td>...</td>\n",
       "      <td>...</td>\n",
       "      <td>...</td>\n",
       "    </tr>\n",
       "    <tr>\n",
       "      <th>2750</th>\n",
       "      <td>Daniel Yong Zhang</td>\n",
       "      <td>$1 B</td>\n",
       "      <td>China</td>\n",
       "      <td>e-commerce</td>\n",
       "      <td>2674</td>\n",
       "      <td>49</td>\n",
       "      <td>Technology</td>\n",
       "      <td>1</td>\n",
       "    </tr>\n",
       "    <tr>\n",
       "      <th>2751</th>\n",
       "      <td>Zhang Yuqiang</td>\n",
       "      <td>$1 B</td>\n",
       "      <td>China</td>\n",
       "      <td>Fiberglass</td>\n",
       "      <td>2674</td>\n",
       "      <td>65</td>\n",
       "      <td>Manufacturing</td>\n",
       "      <td>1</td>\n",
       "    </tr>\n",
       "    <tr>\n",
       "      <th>2752</th>\n",
       "      <td>Zhao Meiguang</td>\n",
       "      <td>$1 B</td>\n",
       "      <td>China</td>\n",
       "      <td>gold mining</td>\n",
       "      <td>2674</td>\n",
       "      <td>58</td>\n",
       "      <td>Metals &amp; Mining</td>\n",
       "      <td>1</td>\n",
       "    </tr>\n",
       "    <tr>\n",
       "      <th>2753</th>\n",
       "      <td>Zhong Naixiong</td>\n",
       "      <td>$1 B</td>\n",
       "      <td>China</td>\n",
       "      <td>conglomerate</td>\n",
       "      <td>2674</td>\n",
       "      <td>58</td>\n",
       "      <td>Diversified</td>\n",
       "      <td>1</td>\n",
       "    </tr>\n",
       "    <tr>\n",
       "      <th>2754</th>\n",
       "      <td>Zhou Wei family</td>\n",
       "      <td>$1 B</td>\n",
       "      <td>China</td>\n",
       "      <td>Software</td>\n",
       "      <td>2674</td>\n",
       "      <td>54</td>\n",
       "      <td>Technology</td>\n",
       "      <td>1</td>\n",
       "    </tr>\n",
       "  </tbody>\n",
       "</table>\n",
       "<p>2755 rows × 8 columns</p>\n",
       "</div>"
      ],
      "text/plain": [
       "                          Name NetWorth        Country         Source  Rank  \\\n",
       "0                   Jeff Bezos   $177 B  United States         Amazon     1   \n",
       "1                    Elon Musk   $151 B  United States  Tesla, SpaceX     2   \n",
       "2     Bernard Arnault & family   $150 B         France           LVMH     3   \n",
       "3                   Bill Gates   $124 B  United States      Microsoft     4   \n",
       "4              Mark Zuckerberg    $97 B  United States       Facebook     5   \n",
       "...                        ...      ...            ...            ...   ...   \n",
       "2750         Daniel Yong Zhang     $1 B          China     e-commerce  2674   \n",
       "2751             Zhang Yuqiang     $1 B          China     Fiberglass  2674   \n",
       "2752             Zhao Meiguang     $1 B          China    gold mining  2674   \n",
       "2753            Zhong Naixiong     $1 B          China   conglomerate  2674   \n",
       "2754           Zhou Wei family     $1 B          China       Software  2674   \n",
       "\n",
       "      Age          Industry NetWorth(B)  \n",
       "0      57        Technology         177  \n",
       "1      49        Automotive         151  \n",
       "2      72  Fashion & Retail         150  \n",
       "3      65        Technology         124  \n",
       "4      36        Technology          97  \n",
       "...   ...               ...         ...  \n",
       "2750   49        Technology           1  \n",
       "2751   65     Manufacturing           1  \n",
       "2752   58   Metals & Mining           1  \n",
       "2753   58       Diversified           1  \n",
       "2754   54        Technology           1  \n",
       "\n",
       "[2755 rows x 8 columns]"
      ]
     },
     "execution_count": 53,
     "metadata": {},
     "output_type": "execute_result"
    }
   ],
   "source": [
    "df"
   ]
  },
  {
   "cell_type": "markdown",
   "id": "a284d870",
   "metadata": {},
   "source": [
    "# DATA EXPLORATION\n",
    "\n",
    "Data exploration is a process of using chart, statistical functions/text to summarize data or to figure out the pattern or structure of a dataset."
   ]
  },
  {
   "cell_type": "markdown",
   "id": "0eb6afb0",
   "metadata": {},
   "source": [
    "# Uni-variant analysis\n",
    "#### Uni-variant analysis is the proccess of using one variable to discover a pattern in a dataset"
   ]
  },
  {
   "cell_type": "code",
   "execution_count": 53,
   "id": "7385d281",
   "metadata": {},
   "outputs": [],
   "source": [
    "# list top five countries with count of their billionaires\n",
    "billionaires_count_per_country = df['Country'].value_counts()"
   ]
  },
  {
   "cell_type": "code",
   "execution_count": 54,
   "id": "a6400510",
   "metadata": {},
   "outputs": [
    {
     "data": {
      "text/plain": [
       "United States    724\n",
       "China            626\n",
       "India            140\n",
       "Germany          136\n",
       "Russia           118\n",
       "Name: Country, dtype: int64"
      ]
     },
     "execution_count": 54,
     "metadata": {},
     "output_type": "execute_result"
    }
   ],
   "source": [
    "# list top five countries with count of their billionaires\n",
    "top_five = billionaires_count_per_country.nlargest(5)\n",
    "top_five"
   ]
  },
  {
   "cell_type": "code",
   "execution_count": 55,
   "id": "22216188",
   "metadata": {},
   "outputs": [
    {
     "data": {
      "text/plain": [
       "Zimbabwe               1\n",
       "St. Kitts and Nevis    1\n",
       "Tanzania               1\n",
       "Macao                  1\n",
       "Oman                   1\n",
       "Name: Country, dtype: int64"
      ]
     },
     "execution_count": 55,
     "metadata": {},
     "output_type": "execute_result"
    }
   ],
   "source": [
    "# list top five countries with count of their billionaires\n",
    "least_five = billionaires_count_per_country.nsmallest(5)\n",
    "least_five"
   ]
  },
  {
   "cell_type": "markdown",
   "id": "3c87ab01",
   "metadata": {},
   "source": [
    "## PANDAS PLOT"
   ]
  },
  {
   "cell_type": "code",
   "execution_count": 94,
   "id": "b9bbac08",
   "metadata": {},
   "outputs": [
    {
     "data": {
      "text/plain": [
       "(array([0, 1, 2, 3, 4]),\n",
       " [Text(0, 0, 'United States'),\n",
       "  Text(1, 0, 'China'),\n",
       "  Text(2, 0, 'India'),\n",
       "  Text(3, 0, 'Germany'),\n",
       "  Text(4, 0, 'Russia')])"
      ]
     },
     "execution_count": 94,
     "metadata": {},
     "output_type": "execute_result"
    },
    {
     "data": {
      "image/png": "[encoded data removed]",
      "text/plain": [
       "<Figure size 800x800 with 1 Axes>"
      ]
     },
     "metadata": {},
     "output_type": "display_data"
    }
   ],
   "source": [
    "# to plot a chat\n",
    "top_five.plot(kind = \"bar\", figsize=(8,8), color=\"red\")\n",
    "\n",
    "plt.title('Top five countries with highest billlionaires', color = 'purple')\n",
    "plt.xlabel('Countries', color='green')\n",
    "plt.ylabel('Count', color='green')\n",
    "plt.xticks(rotation=45, color = 'pink')"
   ]
  },
  {
   "cell_type": "code",
   "execution_count": 96,
   "id": "4cdde0e5",
   "metadata": {},
   "outputs": [
    {
     "data": {
      "image/png": "[encoded data removed]",
      "text/plain": [
       "<Figure size 800x800 with 1 Axes>"
      ]
     },
     "metadata": {},
     "output_type": "display_data"
    }
   ],
   "source": [
    "fig, ax = plt.subplots(facecolor='black', figsize=(9,9))\n",
    "ax.set_facecolor('white')\n",
    "top_five.plot(kind = \"bar\", figsize=(8,8), color=\"blue\", ax = ax)\n",
    "plt.title('Top five countries with highest billionaires', color = 'yellow')\n",
    "plt.xlabel('Countries', color='green')\n",
    "plt.ylabel('Count', color='green')\n",
    "plt.xticks(rotation=45, color = 'pink')\n",
    "plt.show() #this removes the display of the array code of this chart"
   ]
  },
  {
   "cell_type": "code",
   "execution_count": 89,
   "id": "21fcb777",
   "metadata": {},
   "outputs": [
    {
     "data": {
      "text/html": [
       "<div>\n",
       "<style scoped>\n",
       "    .dataframe tbody tr th:only-of-type {\n",
       "        vertical-align: middle;\n",
       "    }\n",
       "\n",
       "    .dataframe tbody tr th {\n",
       "        vertical-align: top;\n",
       "    }\n",
       "\n",
       "    .dataframe thead th {\n",
       "        text-align: right;\n",
       "    }\n",
       "</style>\n",
       "<table border=\"1\" class=\"dataframe\">\n",
       "  <thead>\n",
       "    <tr style=\"text-align: right;\">\n",
       "      <th></th>\n",
       "      <th>Name</th>\n",
       "      <th>NetWorth</th>\n",
       "      <th>Country</th>\n",
       "      <th>Source</th>\n",
       "      <th>Rank</th>\n",
       "      <th>Age</th>\n",
       "      <th>Industry</th>\n",
       "      <th>NetWorth(B)</th>\n",
       "    </tr>\n",
       "  </thead>\n",
       "  <tbody>\n",
       "    <tr>\n",
       "      <th>0</th>\n",
       "      <td>Jeff Bezos</td>\n",
       "      <td>$177 B</td>\n",
       "      <td>United States</td>\n",
       "      <td>Amazon</td>\n",
       "      <td>1</td>\n",
       "      <td>57</td>\n",
       "      <td>Technology</td>\n",
       "      <td>177</td>\n",
       "    </tr>\n",
       "    <tr>\n",
       "      <th>1</th>\n",
       "      <td>Elon Musk</td>\n",
       "      <td>$151 B</td>\n",
       "      <td>United States</td>\n",
       "      <td>Tesla, SpaceX</td>\n",
       "      <td>2</td>\n",
       "      <td>49</td>\n",
       "      <td>Automotive</td>\n",
       "      <td>151</td>\n",
       "    </tr>\n",
       "    <tr>\n",
       "      <th>2</th>\n",
       "      <td>Bernard Arnault &amp; family</td>\n",
       "      <td>$150 B</td>\n",
       "      <td>France</td>\n",
       "      <td>LVMH</td>\n",
       "      <td>3</td>\n",
       "      <td>72</td>\n",
       "      <td>Fashion &amp; Retail</td>\n",
       "      <td>150</td>\n",
       "    </tr>\n",
       "    <tr>\n",
       "      <th>3</th>\n",
       "      <td>Bill Gates</td>\n",
       "      <td>$124 B</td>\n",
       "      <td>United States</td>\n",
       "      <td>Microsoft</td>\n",
       "      <td>4</td>\n",
       "      <td>65</td>\n",
       "      <td>Technology</td>\n",
       "      <td>124</td>\n",
       "    </tr>\n",
       "    <tr>\n",
       "      <th>4</th>\n",
       "      <td>Mark Zuckerberg</td>\n",
       "      <td>$97 B</td>\n",
       "      <td>United States</td>\n",
       "      <td>Facebook</td>\n",
       "      <td>5</td>\n",
       "      <td>36</td>\n",
       "      <td>Technology</td>\n",
       "      <td>97</td>\n",
       "    </tr>\n",
       "    <tr>\n",
       "      <th>...</th>\n",
       "      <td>...</td>\n",
       "      <td>...</td>\n",
       "      <td>...</td>\n",
       "      <td>...</td>\n",
       "      <td>...</td>\n",
       "      <td>...</td>\n",
       "      <td>...</td>\n",
       "      <td>...</td>\n",
       "    </tr>\n",
       "    <tr>\n",
       "      <th>2750</th>\n",
       "      <td>Daniel Yong Zhang</td>\n",
       "      <td>$1 B</td>\n",
       "      <td>China</td>\n",
       "      <td>e-commerce</td>\n",
       "      <td>2674</td>\n",
       "      <td>49</td>\n",
       "      <td>Technology</td>\n",
       "      <td>1</td>\n",
       "    </tr>\n",
       "    <tr>\n",
       "      <th>2751</th>\n",
       "      <td>Zhang Yuqiang</td>\n",
       "      <td>$1 B</td>\n",
       "      <td>China</td>\n",
       "      <td>Fiberglass</td>\n",
       "      <td>2674</td>\n",
       "      <td>65</td>\n",
       "      <td>Manufacturing</td>\n",
       "      <td>1</td>\n",
       "    </tr>\n",
       "    <tr>\n",
       "      <th>2752</th>\n",
       "      <td>Zhao Meiguang</td>\n",
       "      <td>$1 B</td>\n",
       "      <td>China</td>\n",
       "      <td>gold mining</td>\n",
       "      <td>2674</td>\n",
       "      <td>58</td>\n",
       "      <td>Metals &amp; Mining</td>\n",
       "      <td>1</td>\n",
       "    </tr>\n",
       "    <tr>\n",
       "      <th>2753</th>\n",
       "      <td>Zhong Naixiong</td>\n",
       "      <td>$1 B</td>\n",
       "      <td>China</td>\n",
       "      <td>conglomerate</td>\n",
       "      <td>2674</td>\n",
       "      <td>58</td>\n",
       "      <td>Diversified</td>\n",
       "      <td>1</td>\n",
       "    </tr>\n",
       "    <tr>\n",
       "      <th>2754</th>\n",
       "      <td>Zhou Wei family</td>\n",
       "      <td>$1 B</td>\n",
       "      <td>China</td>\n",
       "      <td>Software</td>\n",
       "      <td>2674</td>\n",
       "      <td>54</td>\n",
       "      <td>Technology</td>\n",
       "      <td>1</td>\n",
       "    </tr>\n",
       "  </tbody>\n",
       "</table>\n",
       "<p>2755 rows × 8 columns</p>\n",
       "</div>"
      ],
      "text/plain": [
       "                          Name NetWorth        Country         Source  Rank  \\\n",
       "0                   Jeff Bezos   $177 B  United States         Amazon     1   \n",
       "1                    Elon Musk   $151 B  United States  Tesla, SpaceX     2   \n",
       "2     Bernard Arnault & family   $150 B         France           LVMH     3   \n",
       "3                   Bill Gates   $124 B  United States      Microsoft     4   \n",
       "4              Mark Zuckerberg    $97 B  United States       Facebook     5   \n",
       "...                        ...      ...            ...            ...   ...   \n",
       "2750         Daniel Yong Zhang     $1 B          China     e-commerce  2674   \n",
       "2751             Zhang Yuqiang     $1 B          China     Fiberglass  2674   \n",
       "2752             Zhao Meiguang     $1 B          China    gold mining  2674   \n",
       "2753            Zhong Naixiong     $1 B          China   conglomerate  2674   \n",
       "2754           Zhou Wei family     $1 B          China       Software  2674   \n",
       "\n",
       "      Age          Industry NetWorth(B)  \n",
       "0      57        Technology         177  \n",
       "1      49        Automotive         151  \n",
       "2      72  Fashion & Retail         150  \n",
       "3      65        Technology         124  \n",
       "4      36        Technology          97  \n",
       "...   ...               ...         ...  \n",
       "2750   49        Technology           1  \n",
       "2751   65     Manufacturing           1  \n",
       "2752   58   Metals & Mining           1  \n",
       "2753   58       Diversified           1  \n",
       "2754   54        Technology           1  \n",
       "\n",
       "[2755 rows x 8 columns]"
      ]
     },
     "execution_count": 89,
     "metadata": {},
     "output_type": "execute_result"
    }
   ],
   "source": [
    "df"
   ]
  },
  {
   "cell_type": "code",
   "execution_count": 88,
   "id": "745d44ec",
   "metadata": {},
   "outputs": [
    {
     "data": {
      "text/plain": [
       "Finance & Investments         371\n",
       "Technology                    365\n",
       "Manufacturing                 331\n",
       "Fashion & Retail              273\n",
       "Healthcare                    221\n",
       "Food & Beverage               219\n",
       "Real Estate                   215\n",
       "Diversified                   188\n",
       "Energy                        100\n",
       "Media & Entertainment          95\n",
       "Service                        75\n",
       "Metals & Mining                74\n",
       "Automotive                     68\n",
       "Construction & Engineering     44\n",
       "Logistics                      35\n",
       "Telecom                        32\n",
       "Gambling & Casinos             25\n",
       "Sports                         24\n",
       "Name: Industry, dtype: int64"
      ]
     },
     "execution_count": 88,
     "metadata": {},
     "output_type": "execute_result"
    }
   ],
   "source": [
    "# the industry with the highest billionaires\n",
    "df['Industry'].value_counts()"
   ]
  },
  {
   "cell_type": "code",
   "execution_count": 89,
   "id": "72014822",
   "metadata": {},
   "outputs": [],
   "source": [
    "billionaires_by_industries = df['Industry'].value_counts()"
   ]
  },
  {
   "cell_type": "code",
   "execution_count": 90,
   "id": "b94f7c95",
   "metadata": {},
   "outputs": [
    {
     "data": {
      "text/plain": [
       "Finance & Investments    371\n",
       "Technology               365\n",
       "Manufacturing            331\n",
       "Fashion & Retail         273\n",
       "Healthcare               221\n",
       "Name: Industry, dtype: int64"
      ]
     },
     "execution_count": 90,
     "metadata": {},
     "output_type": "execute_result"
    }
   ],
   "source": [
    "top_five_by_industry = billionaires_by_industries.nlargest(5)\n",
    "top_five_by_industry"
   ]
  },
  {
   "cell_type": "code",
   "execution_count": 100,
   "id": "6eb67759",
   "metadata": {},
   "outputs": [
    {
     "data": {
      "image/png": "[encoded data removed]",
      "text/plain": [
       "<Figure size 500x500 with 1 Axes>"
      ]
     },
     "metadata": {},
     "output_type": "display_data"
    }
   ],
   "source": [
    "top_five_by_industry.plot(kind = 'bar', figsize= (5,5), color='orange')\n",
    "\n",
    "plt.title('Billionaires_by_industry')\n",
    "plt.xticks(rotation=40)\n",
    "plt.yticks(rotation=40)\n",
    "plt.show()"
   ]
  },
  {
   "cell_type": "code",
   "execution_count": null,
   "id": "14a3daf8",
   "metadata": {},
   "outputs": [],
   "source": []
  },
  {
   "cell_type": "code",
   "execution_count": 108,
   "id": "4585e187",
   "metadata": {},
   "outputs": [
    {
     "data": {
      "text/plain": [
       "United States    724\n",
       "China            626\n",
       "India            140\n",
       "Germany          136\n",
       "Russia           118\n",
       "Name: Country, dtype: int64"
      ]
     },
     "execution_count": 108,
     "metadata": {},
     "output_type": "execute_result"
    }
   ],
   "source": [
    "least_five = billionaires_count_per_country.nlargest(5)\n",
    "least_five"
   ]
  },
  {
   "cell_type": "code",
   "execution_count": 101,
   "id": "73280c57",
   "metadata": {},
   "outputs": [
    {
     "data": {
      "text/plain": [
       "<BarContainer object of 5 artists>"
      ]
     },
     "execution_count": 101,
     "metadata": {},
     "output_type": "execute_result"
    },
    {
     "data": {
      "image/png": "[encoded data removed]",
      "text/plain": [
       "<Figure size 640x480 with 1 Axes>"
      ]
     },
     "metadata": {},
     "output_type": "display_data"
    }
   ],
   "source": [
    "plt.bar(x=top_five.index, height= top_five.values)"
   ]
  },
  {
   "cell_type": "markdown",
   "id": "fb7cbc2f",
   "metadata": {},
   "source": [
    "# MATPLOT"
   ]
  },
  {
   "cell_type": "code",
   "execution_count": 98,
   "id": "a2ecdbf3",
   "metadata": {},
   "outputs": [
    {
     "data": {
      "text/plain": [
       "<BarContainer object of 5 artists>"
      ]
     },
     "execution_count": 98,
     "metadata": {},
     "output_type": "execute_result"
    },
    {
     "data": {
      "image/png": "[encoded data removed]",
      "text/plain": [
       "<Figure size 900x900 with 1 Axes>"
      ]
     },
     "metadata": {},
     "output_type": "display_data"
    }
   ],
   "source": [
    "fig, ax = plt.subplots(figsize=(9,9))\n",
    "plt.bar(x=top_five.index, height= top_five.values)"
   ]
  },
  {
   "cell_type": "markdown",
   "id": "c72ef4e1",
   "metadata": {},
   "source": [
    "# SEABORNE"
   ]
  },
  {
   "cell_type": "code",
   "execution_count": 99,
   "id": "8187a986",
   "metadata": {},
   "outputs": [
    {
     "data": {
      "text/plain": [
       "<AxesSubplot:>"
      ]
     },
     "execution_count": 99,
     "metadata": {},
     "output_type": "execute_result"
    },
    {
     "data": {
      "image/png": "[encoded data removed]",
      "text/plain": [
       "<Figure size 900x900 with 1 Axes>"
      ]
     },
     "metadata": {},
     "output_type": "display_data"
    }
   ],
   "source": [
    "fig, ax = plt.subplots(figsize=(9,9))\n",
    "sns.barplot(x=top_five.index, y= top_five.values)"
   ]
  },
  {
   "cell_type": "code",
   "execution_count": null,
   "id": "409dc259",
   "metadata": {},
   "outputs": [],
   "source": []
  },
  {
   "cell_type": "code",
   "execution_count": 133,
   "id": "b78519a5",
   "metadata": {},
   "outputs": [
    {
     "data": {
      "text/plain": [
       "<AxesSubplot:ylabel='Frequency'>"
      ]
     },
     "execution_count": 133,
     "metadata": {},
     "output_type": "execute_result"
    },
    {
     "data": {
      "image/png": "[encoded data removed]",
      "text/plain": [
       "<Figure size 500x500 with 1 Axes>"
      ]
     },
     "metadata": {},
     "output_type": "display_data"
    }
   ],
   "source": [
    "#univariiance analysis for numerical values\n",
    "fig, ax = plt.subplots(figsize=(5,5))\n",
    "df['Age'].plot(kind='hist', bins=5)"
   ]
  },
  {
   "cell_type": "code",
   "execution_count": 134,
   "id": "605db88b",
   "metadata": {},
   "outputs": [
    {
     "data": {
      "text/plain": [
       "<AxesSubplot:>"
      ]
     },
     "execution_count": 134,
     "metadata": {},
     "output_type": "execute_result"
    },
    {
     "data": {
      "image/png": "[encoded data removed]",
      "text/plain": [
       "<Figure size 500x500 with 1 Axes>"
      ]
     },
     "metadata": {},
     "output_type": "display_data"
    }
   ],
   "source": [
    "fig, ax = plt.subplots(figsize=(5,5))\n",
    "df['Age'].plot(kind='box')"
   ]
  },
  {
   "cell_type": "code",
   "execution_count": 135,
   "id": "65a7b7d4",
   "metadata": {},
   "outputs": [
    {
     "data": {
      "text/html": [
       "<div>\n",
       "<style scoped>\n",
       "    .dataframe tbody tr th:only-of-type {\n",
       "        vertical-align: middle;\n",
       "    }\n",
       "\n",
       "    .dataframe tbody tr th {\n",
       "        vertical-align: top;\n",
       "    }\n",
       "\n",
       "    .dataframe thead th {\n",
       "        text-align: right;\n",
       "    }\n",
       "</style>\n",
       "<table border=\"1\" class=\"dataframe\">\n",
       "  <thead>\n",
       "    <tr style=\"text-align: right;\">\n",
       "      <th></th>\n",
       "      <th>Name</th>\n",
       "      <th>NetWorth</th>\n",
       "      <th>Country</th>\n",
       "      <th>Source</th>\n",
       "      <th>Rank</th>\n",
       "      <th>Age</th>\n",
       "      <th>Industry</th>\n",
       "      <th>NetWorth(B)</th>\n",
       "    </tr>\n",
       "  </thead>\n",
       "  <tbody>\n",
       "    <tr>\n",
       "      <th>0</th>\n",
       "      <td>Jeff Bezos</td>\n",
       "      <td>$177 B</td>\n",
       "      <td>United States</td>\n",
       "      <td>Amazon</td>\n",
       "      <td>1</td>\n",
       "      <td>57</td>\n",
       "      <td>Technology</td>\n",
       "      <td>177</td>\n",
       "    </tr>\n",
       "    <tr>\n",
       "      <th>2</th>\n",
       "      <td>Bernard Arnault &amp; family</td>\n",
       "      <td>$150 B</td>\n",
       "      <td>France</td>\n",
       "      <td>LVMH</td>\n",
       "      <td>3</td>\n",
       "      <td>72</td>\n",
       "      <td>Fashion &amp; Retail</td>\n",
       "      <td>150</td>\n",
       "    </tr>\n",
       "    <tr>\n",
       "      <th>3</th>\n",
       "      <td>Bill Gates</td>\n",
       "      <td>$124 B</td>\n",
       "      <td>United States</td>\n",
       "      <td>Microsoft</td>\n",
       "      <td>4</td>\n",
       "      <td>65</td>\n",
       "      <td>Technology</td>\n",
       "      <td>124</td>\n",
       "    </tr>\n",
       "    <tr>\n",
       "      <th>5</th>\n",
       "      <td>Warren Buffett</td>\n",
       "      <td>$96 B</td>\n",
       "      <td>United States</td>\n",
       "      <td>Berkshire Hathaway</td>\n",
       "      <td>6</td>\n",
       "      <td>90</td>\n",
       "      <td>Finance &amp; Investments</td>\n",
       "      <td>96</td>\n",
       "    </tr>\n",
       "    <tr>\n",
       "      <th>6</th>\n",
       "      <td>Larry Ellison</td>\n",
       "      <td>$93 B</td>\n",
       "      <td>United States</td>\n",
       "      <td>software</td>\n",
       "      <td>7</td>\n",
       "      <td>76</td>\n",
       "      <td>Technology</td>\n",
       "      <td>93</td>\n",
       "    </tr>\n",
       "    <tr>\n",
       "      <th>...</th>\n",
       "      <td>...</td>\n",
       "      <td>...</td>\n",
       "      <td>...</td>\n",
       "      <td>...</td>\n",
       "      <td>...</td>\n",
       "      <td>...</td>\n",
       "      <td>...</td>\n",
       "      <td>...</td>\n",
       "    </tr>\n",
       "    <tr>\n",
       "      <th>2749</th>\n",
       "      <td>Yu De-Chao</td>\n",
       "      <td>$1 B</td>\n",
       "      <td>United States</td>\n",
       "      <td>pharmaceuticals</td>\n",
       "      <td>2674</td>\n",
       "      <td>57</td>\n",
       "      <td>Healthcare</td>\n",
       "      <td>1</td>\n",
       "    </tr>\n",
       "    <tr>\n",
       "      <th>2751</th>\n",
       "      <td>Zhang Yuqiang</td>\n",
       "      <td>$1 B</td>\n",
       "      <td>China</td>\n",
       "      <td>Fiberglass</td>\n",
       "      <td>2674</td>\n",
       "      <td>65</td>\n",
       "      <td>Manufacturing</td>\n",
       "      <td>1</td>\n",
       "    </tr>\n",
       "    <tr>\n",
       "      <th>2752</th>\n",
       "      <td>Zhao Meiguang</td>\n",
       "      <td>$1 B</td>\n",
       "      <td>China</td>\n",
       "      <td>gold mining</td>\n",
       "      <td>2674</td>\n",
       "      <td>58</td>\n",
       "      <td>Metals &amp; Mining</td>\n",
       "      <td>1</td>\n",
       "    </tr>\n",
       "    <tr>\n",
       "      <th>2753</th>\n",
       "      <td>Zhong Naixiong</td>\n",
       "      <td>$1 B</td>\n",
       "      <td>China</td>\n",
       "      <td>conglomerate</td>\n",
       "      <td>2674</td>\n",
       "      <td>58</td>\n",
       "      <td>Diversified</td>\n",
       "      <td>1</td>\n",
       "    </tr>\n",
       "    <tr>\n",
       "      <th>2754</th>\n",
       "      <td>Zhou Wei family</td>\n",
       "      <td>$1 B</td>\n",
       "      <td>China</td>\n",
       "      <td>Software</td>\n",
       "      <td>2674</td>\n",
       "      <td>54</td>\n",
       "      <td>Technology</td>\n",
       "      <td>1</td>\n",
       "    </tr>\n",
       "  </tbody>\n",
       "</table>\n",
       "<p>2296 rows × 8 columns</p>\n",
       "</div>"
      ],
      "text/plain": [
       "                          Name NetWorth        Country              Source  \\\n",
       "0                   Jeff Bezos   $177 B  United States              Amazon   \n",
       "2     Bernard Arnault & family   $150 B         France                LVMH   \n",
       "3                   Bill Gates   $124 B  United States           Microsoft   \n",
       "5               Warren Buffett    $96 B  United States  Berkshire Hathaway   \n",
       "6                Larry Ellison    $93 B  United States            software   \n",
       "...                        ...      ...            ...                 ...   \n",
       "2749                Yu De-Chao     $1 B  United States     pharmaceuticals   \n",
       "2751             Zhang Yuqiang     $1 B          China          Fiberglass   \n",
       "2752             Zhao Meiguang     $1 B          China         gold mining   \n",
       "2753            Zhong Naixiong     $1 B          China        conglomerate   \n",
       "2754           Zhou Wei family     $1 B          China            Software   \n",
       "\n",
       "      Rank  Age               Industry NetWorth(B)  \n",
       "0        1   57             Technology         177  \n",
       "2        3   72       Fashion & Retail         150  \n",
       "3        4   65             Technology         124  \n",
       "5        6   90  Finance & Investments          96  \n",
       "6        7   76             Technology          93  \n",
       "...    ...  ...                    ...         ...  \n",
       "2749  2674   57             Healthcare           1  \n",
       "2751  2674   65          Manufacturing           1  \n",
       "2752  2674   58        Metals & Mining           1  \n",
       "2753  2674   58            Diversified           1  \n",
       "2754  2674   54             Technology           1  \n",
       "\n",
       "[2296 rows x 8 columns]"
      ]
     },
     "execution_count": 135,
     "metadata": {},
     "output_type": "execute_result"
    }
   ],
   "source": [
    "df.query('Age <100 & Age>50')"
   ]
  },
  {
   "cell_type": "code",
   "execution_count": 143,
   "id": "340cffd5",
   "metadata": {},
   "outputs": [
    {
     "data": {
      "text/html": [
       "<div>\n",
       "<style scoped>\n",
       "    .dataframe tbody tr th:only-of-type {\n",
       "        vertical-align: middle;\n",
       "    }\n",
       "\n",
       "    .dataframe tbody tr th {\n",
       "        vertical-align: top;\n",
       "    }\n",
       "\n",
       "    .dataframe thead th {\n",
       "        text-align: right;\n",
       "    }\n",
       "</style>\n",
       "<table border=\"1\" class=\"dataframe\">\n",
       "  <thead>\n",
       "    <tr style=\"text-align: right;\">\n",
       "      <th></th>\n",
       "      <th>Name</th>\n",
       "      <th>NetWorth</th>\n",
       "      <th>Country</th>\n",
       "      <th>Source</th>\n",
       "      <th>Rank</th>\n",
       "      <th>Age</th>\n",
       "      <th>Industry</th>\n",
       "      <th>NetWorth(B)</th>\n",
       "    </tr>\n",
       "  </thead>\n",
       "  <tbody>\n",
       "    <tr>\n",
       "      <th>0</th>\n",
       "      <td>Jeff Bezos</td>\n",
       "      <td>$177 B</td>\n",
       "      <td>United States</td>\n",
       "      <td>Amazon</td>\n",
       "      <td>1</td>\n",
       "      <td>57</td>\n",
       "      <td>Technology</td>\n",
       "      <td>177</td>\n",
       "    </tr>\n",
       "    <tr>\n",
       "      <th>3</th>\n",
       "      <td>Bill Gates</td>\n",
       "      <td>$124 B</td>\n",
       "      <td>United States</td>\n",
       "      <td>Microsoft</td>\n",
       "      <td>4</td>\n",
       "      <td>65</td>\n",
       "      <td>Technology</td>\n",
       "      <td>124</td>\n",
       "    </tr>\n",
       "    <tr>\n",
       "      <th>4</th>\n",
       "      <td>Mark Zuckerberg</td>\n",
       "      <td>$97 B</td>\n",
       "      <td>United States</td>\n",
       "      <td>Facebook</td>\n",
       "      <td>5</td>\n",
       "      <td>36</td>\n",
       "      <td>Technology</td>\n",
       "      <td>97</td>\n",
       "    </tr>\n",
       "    <tr>\n",
       "      <th>6</th>\n",
       "      <td>Larry Ellison</td>\n",
       "      <td>$93 B</td>\n",
       "      <td>United States</td>\n",
       "      <td>software</td>\n",
       "      <td>7</td>\n",
       "      <td>76</td>\n",
       "      <td>Technology</td>\n",
       "      <td>93</td>\n",
       "    </tr>\n",
       "    <tr>\n",
       "      <th>7</th>\n",
       "      <td>Larry Page</td>\n",
       "      <td>$91.5 B</td>\n",
       "      <td>United States</td>\n",
       "      <td>Google</td>\n",
       "      <td>8</td>\n",
       "      <td>48</td>\n",
       "      <td>Technology</td>\n",
       "      <td>91.5</td>\n",
       "    </tr>\n",
       "    <tr>\n",
       "      <th>...</th>\n",
       "      <td>...</td>\n",
       "      <td>...</td>\n",
       "      <td>...</td>\n",
       "      <td>...</td>\n",
       "      <td>...</td>\n",
       "      <td>...</td>\n",
       "      <td>...</td>\n",
       "      <td>...</td>\n",
       "    </tr>\n",
       "    <tr>\n",
       "      <th>2741</th>\n",
       "      <td>Wang Wenjian</td>\n",
       "      <td>$1 B</td>\n",
       "      <td>China</td>\n",
       "      <td>optical devices</td>\n",
       "      <td>2674</td>\n",
       "      <td>74</td>\n",
       "      <td>Technology</td>\n",
       "      <td>1</td>\n",
       "    </tr>\n",
       "    <tr>\n",
       "      <th>2744</th>\n",
       "      <td>Xia Zhisheng &amp; family</td>\n",
       "      <td>$1 B</td>\n",
       "      <td>China</td>\n",
       "      <td>home appliances</td>\n",
       "      <td>2674</td>\n",
       "      <td>79</td>\n",
       "      <td>Technology</td>\n",
       "      <td>1</td>\n",
       "    </tr>\n",
       "    <tr>\n",
       "      <th>2747</th>\n",
       "      <td>Mark Haoyong Yang</td>\n",
       "      <td>$1 B</td>\n",
       "      <td>China</td>\n",
       "      <td>e-commerce</td>\n",
       "      <td>2674</td>\n",
       "      <td>46</td>\n",
       "      <td>Technology</td>\n",
       "      <td>1</td>\n",
       "    </tr>\n",
       "    <tr>\n",
       "      <th>2750</th>\n",
       "      <td>Daniel Yong Zhang</td>\n",
       "      <td>$1 B</td>\n",
       "      <td>China</td>\n",
       "      <td>e-commerce</td>\n",
       "      <td>2674</td>\n",
       "      <td>49</td>\n",
       "      <td>Technology</td>\n",
       "      <td>1</td>\n",
       "    </tr>\n",
       "    <tr>\n",
       "      <th>2754</th>\n",
       "      <td>Zhou Wei family</td>\n",
       "      <td>$1 B</td>\n",
       "      <td>China</td>\n",
       "      <td>Software</td>\n",
       "      <td>2674</td>\n",
       "      <td>54</td>\n",
       "      <td>Technology</td>\n",
       "      <td>1</td>\n",
       "    </tr>\n",
       "  </tbody>\n",
       "</table>\n",
       "<p>365 rows × 8 columns</p>\n",
       "</div>"
      ],
      "text/plain": [
       "                       Name NetWorth        Country           Source  Rank  \\\n",
       "0                Jeff Bezos   $177 B  United States           Amazon     1   \n",
       "3                Bill Gates   $124 B  United States        Microsoft     4   \n",
       "4           Mark Zuckerberg    $97 B  United States         Facebook     5   \n",
       "6             Larry Ellison    $93 B  United States         software     7   \n",
       "7                Larry Page  $91.5 B  United States           Google     8   \n",
       "...                     ...      ...            ...              ...   ...   \n",
       "2741           Wang Wenjian     $1 B          China  optical devices  2674   \n",
       "2744  Xia Zhisheng & family     $1 B          China  home appliances  2674   \n",
       "2747      Mark Haoyong Yang     $1 B          China       e-commerce  2674   \n",
       "2750      Daniel Yong Zhang     $1 B          China       e-commerce  2674   \n",
       "2754        Zhou Wei family     $1 B          China         Software  2674   \n",
       "\n",
       "      Age    Industry NetWorth(B)  \n",
       "0      57  Technology         177  \n",
       "3      65  Technology         124  \n",
       "4      36  Technology          97  \n",
       "6      76  Technology          93  \n",
       "7      48  Technology        91.5  \n",
       "...   ...         ...         ...  \n",
       "2741   74  Technology           1  \n",
       "2744   79  Technology           1  \n",
       "2747   46  Technology           1  \n",
       "2750   49  Technology           1  \n",
       "2754   54  Technology           1  \n",
       "\n",
       "[365 rows x 8 columns]"
      ]
     },
     "execution_count": 143,
     "metadata": {},
     "output_type": "execute_result"
    }
   ],
   "source": [
    "df.query(\"Industry=='Technology'\")"
   ]
  },
  {
   "cell_type": "code",
   "execution_count": 144,
   "id": "0a3f6414",
   "metadata": {},
   "outputs": [
    {
     "name": "stdout",
     "output_type": "stream",
     "text": [
      "<class 'pandas.core.frame.DataFrame'>\n",
      "Int64Index: 2755 entries, 0 to 2754\n",
      "Data columns (total 8 columns):\n",
      " #   Column       Non-Null Count  Dtype \n",
      "---  ------       --------------  ----- \n",
      " 0   Name         2755 non-null   object\n",
      " 1   NetWorth     2755 non-null   object\n",
      " 2   Country      2755 non-null   object\n",
      " 3   Source       2755 non-null   object\n",
      " 4   Rank         2755 non-null   int64 \n",
      " 5   Age          2755 non-null   int32 \n",
      " 6   Industry     2755 non-null   object\n",
      " 7   NetWorth(B)  2755 non-null   object\n",
      "dtypes: int32(1), int64(1), object(6)\n",
      "memory usage: 182.9+ KB\n"
     ]
    }
   ],
   "source": []
  },
  {
   "cell_type": "code",
   "execution_count": 147,
   "id": "751373d8",
   "metadata": {},
   "outputs": [],
   "source": [
    "df['NetWorth(B)']=df['NetWorth(B)'].astype(float)"
   ]
  },
  {
   "cell_type": "markdown",
   "id": "0bb46776",
   "metadata": {},
   "source": [
    "# BI-VARIATE ANNALYSIS\n",
    "Comaring two columns"
   ]
  },
  {
   "cell_type": "code",
   "execution_count": 149,
   "id": "708553b8",
   "metadata": {},
   "outputs": [
    {
     "data": {
      "text/html": [
       "<div>\n",
       "<style scoped>\n",
       "    .dataframe tbody tr th:only-of-type {\n",
       "        vertical-align: middle;\n",
       "    }\n",
       "\n",
       "    .dataframe tbody tr th {\n",
       "        vertical-align: top;\n",
       "    }\n",
       "\n",
       "    .dataframe thead th {\n",
       "        text-align: right;\n",
       "    }\n",
       "</style>\n",
       "<table border=\"1\" class=\"dataframe\">\n",
       "  <thead>\n",
       "    <tr style=\"text-align: right;\">\n",
       "      <th></th>\n",
       "      <th>NetWorth(B)</th>\n",
       "    </tr>\n",
       "    <tr>\n",
       "      <th>Country</th>\n",
       "      <th></th>\n",
       "    </tr>\n",
       "  </thead>\n",
       "  <tbody>\n",
       "    <tr>\n",
       "      <th>Algeria</th>\n",
       "      <td>4.800000</td>\n",
       "    </tr>\n",
       "    <tr>\n",
       "      <th>Argentina</th>\n",
       "      <td>3.060000</td>\n",
       "    </tr>\n",
       "    <tr>\n",
       "      <th>Australia</th>\n",
       "      <td>4.125000</td>\n",
       "    </tr>\n",
       "    <tr>\n",
       "      <th>Austria</th>\n",
       "      <td>5.225000</td>\n",
       "    </tr>\n",
       "    <tr>\n",
       "      <th>Belgium</th>\n",
       "      <td>4.200000</td>\n",
       "    </tr>\n",
       "    <tr>\n",
       "      <th>...</th>\n",
       "      <td>...</td>\n",
       "    </tr>\n",
       "    <tr>\n",
       "      <th>United Kingdom</th>\n",
       "      <td>3.819643</td>\n",
       "    </tr>\n",
       "    <tr>\n",
       "      <th>United States</th>\n",
       "      <td>6.075138</td>\n",
       "    </tr>\n",
       "    <tr>\n",
       "      <th>Venezuela</th>\n",
       "      <td>3.200000</td>\n",
       "    </tr>\n",
       "    <tr>\n",
       "      <th>Vietnam</th>\n",
       "      <td>2.783333</td>\n",
       "    </tr>\n",
       "    <tr>\n",
       "      <th>Zimbabwe</th>\n",
       "      <td>1.500000</td>\n",
       "    </tr>\n",
       "  </tbody>\n",
       "</table>\n",
       "<p>70 rows × 1 columns</p>\n",
       "</div>"
      ],
      "text/plain": [
       "                NetWorth(B)\n",
       "Country                    \n",
       "Algeria            4.800000\n",
       "Argentina          3.060000\n",
       "Australia          4.125000\n",
       "Austria            5.225000\n",
       "Belgium            4.200000\n",
       "...                     ...\n",
       "United Kingdom     3.819643\n",
       "United States      6.075138\n",
       "Venezuela          3.200000\n",
       "Vietnam            2.783333\n",
       "Zimbabwe           1.500000\n",
       "\n",
       "[70 rows x 1 columns]"
      ]
     },
     "execution_count": 149,
     "metadata": {},
     "output_type": "execute_result"
    }
   ],
   "source": [
    "df.groupby(['Country']).agg({'NetWorth(B)':'mean'})\n"
   ]
  },
  {
   "cell_type": "code",
   "execution_count": null,
   "id": "8aa6097d",
   "metadata": {},
   "outputs": [],
   "source": []
  },
  {
   "cell_type": "code",
   "execution_count": null,
   "id": "a82ba1ee",
   "metadata": {},
   "outputs": [],
   "source": []
  },
  {
   "cell_type": "code",
   "execution_count": null,
   "id": "143c1eb4",
   "metadata": {},
   "outputs": [],
   "source": []
  },
  {
   "cell_type": "code",
   "execution_count": null,
   "id": "6bf3fb11",
   "metadata": {},
   "outputs": [],
   "source": []
  },
  {
   "cell_type": "code",
   "execution_count": null,
   "id": "b0a0fcbb",
   "metadata": {},
   "outputs": [],
   "source": []
  },
  {
   "cell_type": "code",
   "execution_count": null,
   "id": "f98b08f1",
   "metadata": {},
   "outputs": [],
   "source": []
  },
  {
   "cell_type": "code",
   "execution_count": null,
   "id": "b50a688b",
   "metadata": {},
   "outputs": [],
   "source": []
  },
  {
   "cell_type": "code",
   "execution_count": null,
   "id": "6cf62fcb",
   "metadata": {},
   "outputs": [],
   "source": []
  },
  {
   "cell_type": "code",
   "execution_count": null,
   "id": "1f11047c",
   "metadata": {},
   "outputs": [],
   "source": []
  },
  {
   "cell_type": "code",
   "execution_count": null,
   "id": "d050c0a1",
   "metadata": {},
   "outputs": [],
   "source": []
  },
  {
   "cell_type": "code",
   "execution_count": null,
   "id": "921f3036",
   "metadata": {},
   "outputs": [],
   "source": []
  }
 ],
 "metadata": {
  "kernelspec": {
   "display_name": "Python 3 (ipykernel)",
   "language": "python",
   "name": "python3"
  },
  "language_info": {
   "codemirror_mode": {
    "name": "ipython",
    "version": 3
   },
   "file_extension": ".py",
   "mimetype": "text/x-python",
   "name": "python",
   "nbconvert_exporter": "python",
   "pygments_lexer": "ipython3",
   "version": "3.9.13"
  }
 },
 "nbformat": 4,
 "nbformat_minor": 5
}
